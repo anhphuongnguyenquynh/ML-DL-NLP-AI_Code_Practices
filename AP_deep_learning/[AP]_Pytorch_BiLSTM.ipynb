{
  "nbformat": 4,
  "nbformat_minor": 0,
  "metadata": {
    "colab": {
      "provenance": []
    },
    "kernelspec": {
      "name": "python3",
      "display_name": "Python 3"
    },
    "language_info": {
      "name": "python"
    }
  },
  "cells": [
    {
      "cell_type": "markdown",
      "source": [
        "Source practice: https://www.youtube.com/watch?v=Jy4wM2X21u0&list=PLhhyoLH6IjfxeoooqP9rhU3HJIAVAJ3Vz&index=3"
      ],
      "metadata": {
        "id": "wdz2P-AFQouw"
      }
    },
    {
      "cell_type": "markdown",
      "source": [
        "##Imports"
      ],
      "metadata": {
        "id": "_PUuXL8t9DFv"
      }
    },
    {
      "cell_type": "code",
      "source": [
        "import torch\n",
        "import torch.nn as nn\n",
        "import torch.optim as optim\n",
        "import torch.nn.functional as F\n",
        "from torch.utils.data import DataLoader\n",
        "import torchvision.datasets as datasets\n",
        "import torchvision.transforms as transforms"
      ],
      "metadata": {
        "id": "q_bYMVdIGJqS"
      },
      "execution_count": 17,
      "outputs": []
    },
    {
      "cell_type": "markdown",
      "source": [
        "##Load data"
      ],
      "metadata": {
        "id": "tl17uebgFmB2"
      }
    },
    {
      "cell_type": "code",
      "source": [
        "train_dataset = datasets.MNIST(download = True, root = 'dataset/', train = True, transform = transforms.ToTensor())"
      ],
      "metadata": {
        "id": "WqOTF__BpaHW"
      },
      "execution_count": 18,
      "outputs": []
    },
    {
      "cell_type": "code",
      "source": [
        "train_loader = DataLoader(dataset = train_dataset, batch_size = batch_size, shuffle = True)"
      ],
      "metadata": {
        "id": "B54Csj3GrwBb"
      },
      "execution_count": 19,
      "outputs": []
    },
    {
      "cell_type": "code",
      "source": [
        "test_dataset = datasets.MNIST(download = True, root = 'dataset/', train = False, transform = transforms.ToTensor())"
      ],
      "metadata": {
        "id": "vfBLrAaxr6SJ"
      },
      "execution_count": 20,
      "outputs": []
    },
    {
      "cell_type": "code",
      "source": [
        "test_loader = DataLoader(dataset = train_dataset, batch_size = batch_size, shuffle = True)"
      ],
      "metadata": {
        "id": "2mUZTECor9Mc"
      },
      "execution_count": 21,
      "outputs": []
    },
    {
      "cell_type": "markdown",
      "source": [
        "##Set device"
      ],
      "metadata": {
        "id": "spe1RI9zFif8"
      }
    },
    {
      "cell_type": "code",
      "source": [
        "device = torch.device('cuda' if torch.cuda.is_available() else 'cpu')"
      ],
      "metadata": {
        "id": "zsvOROyppPR_"
      },
      "execution_count": 22,
      "outputs": []
    },
    {
      "cell_type": "markdown",
      "source": [
        "## Hyperparameters"
      ],
      "metadata": {
        "id": "P3pM_ZhfFkLH"
      }
    },
    {
      "cell_type": "code",
      "source": [
        "input_size = 28\n",
        "sequence_length = 28\n",
        "num_layers = 2\n",
        "hidden_size = 256\n",
        "num_classes = 10\n",
        "learning_rate = 0.001\n",
        "batch_size = 64\n",
        "num_epochs = 2"
      ],
      "metadata": {
        "id": "F8IXwkmwpSJm"
      },
      "execution_count": 23,
      "outputs": []
    },
    {
      "cell_type": "markdown",
      "source": [
        "# Bidirectional LSTM"
      ],
      "metadata": {
        "id": "i54E2BkrlRak"
      }
    },
    {
      "cell_type": "code",
      "source": [
        "class BRNN(nn.Module):\n",
        "  def __init__(self, input_size, hidden_size, num_layers, num_classes):\n",
        "    super(BRNN, self).__init__()\n",
        "    self.hidden_size = hidden_size\n",
        "    self.num_layers = num_layers\n",
        "    self.lstm = nn.LSTM(\n",
        "        input_size, hidden_size, num_layers, batch_first = True, bidirectional = True\n",
        "    )\n",
        "    self.fc = nn.Linear(hidden_size * 2, num_classes)\n",
        "\n",
        "  def forward(self, x):\n",
        "    h0 = torch.zeros(self.num_layers * 2, x.size(0), self.hidden_size).to(device)\n",
        "    c0 = torch.zeros(self.num_layers * 2, x.size(0), self.hidden_size).to(device)\n",
        "\n",
        "    out, _ = self.lstm(x, (h0, c0))\n",
        "    out = self.fc(out[:, -1, :])\n",
        "\n",
        "    return out"
      ],
      "metadata": {
        "id": "GSwW7Q-fActT"
      },
      "execution_count": 24,
      "outputs": []
    },
    {
      "cell_type": "markdown",
      "source": [
        "##Initialize network"
      ],
      "metadata": {
        "id": "QS_kB0RkFtJ3"
      }
    },
    {
      "cell_type": "code",
      "source": [
        "model = BRNN(input_size = input_size, hidden_size = hidden_size, num_layers = num_layers, num_classes = num_classes).to(device)"
      ],
      "metadata": {
        "id": "BH0wurZdsBD0"
      },
      "execution_count": 25,
      "outputs": []
    },
    {
      "cell_type": "markdown",
      "source": [
        "##Loss and Optimizer"
      ],
      "metadata": {
        "id": "gqw2dAC3FvFj"
      }
    },
    {
      "cell_type": "code",
      "source": [
        "criterion = nn.CrossEntropyLoss()\n",
        "optimizer = optim.Adam(model.parameters(), lr = learning_rate)"
      ],
      "metadata": {
        "id": "_aQn2T_bsgAF"
      },
      "execution_count": 26,
      "outputs": []
    },
    {
      "cell_type": "markdown",
      "source": [
        "## Train Network"
      ],
      "metadata": {
        "id": "wvkrSZLvFxSb"
      }
    },
    {
      "cell_type": "code",
      "source": [
        "for epoch in range(num_epochs):\n",
        "  for batch_idx, (data, targets) in enumerate(train_loader):\n",
        "    #Get data to cuda if possible\n",
        "    data = data.to(device = device).squeeze(1) ####\n",
        "    targets = targets.to(device = device)\n",
        "\n",
        "    #Forward\n",
        "    scores = model(data)\n",
        "    loss = criterion(scores, targets)\n",
        "\n",
        "    #Backward\n",
        "    optimizer.zero_grad()\n",
        "    loss.backward()\n",
        "\n",
        "    #Gradient descent or adam step\n",
        "    optimizer.step()\n"
      ],
      "metadata": {
        "id": "-n1ek9UQtUEf"
      },
      "execution_count": 16,
      "outputs": []
    },
    {
      "cell_type": "markdown",
      "source": [
        "## Check accuracy on training and test"
      ],
      "metadata": {
        "id": "JTCpqwM9FzL2"
      }
    },
    {
      "cell_type": "code",
      "source": [
        "def check_accuracy(loader, model):\n",
        "  if loader.dataset.train:\n",
        "    print(\"Checking accuracy on training data\")\n",
        "  else:\n",
        "    print(\"Checking accuracy on test data\")\n",
        "  num_correct = 0\n",
        "  num_samples = 0\n",
        "  model.eval()\n",
        "\n",
        "  with torch.no_grad():\n",
        "    for x, y in loader:\n",
        "      x = x.to(device = device).squeeze(1)\n",
        "      y = y.to(device = device)\n",
        "\n",
        "      scores = model(x)\n",
        "      _, predictions = scores.max(1) #maximum values\n",
        "      num_correct += (predictions == y).sum()\n",
        "      num_samples += predictions.size(0)\n",
        "\n",
        "    print(f'Got {num_correct} / {num_samples} with accuracy {float(num_correct)/float(num_samples)*100:.2f}')\n",
        "\n",
        "  model.train()\n",
        "  return num_correct"
      ],
      "metadata": {
        "id": "I8w9yDhVRdJ-"
      },
      "execution_count": 27,
      "outputs": []
    },
    {
      "cell_type": "code",
      "source": [
        "check_accuracy(train_loader, model)\n",
        "check_accuracy(test_loader, model)"
      ],
      "metadata": {
        "colab": {
          "base_uri": "https://localhost:8080/"
        },
        "id": "FVYuswK0RtzZ",
        "outputId": "b011aeee-c48a-43bb-ffd9-f936ea9af186"
      },
      "execution_count": 28,
      "outputs": [
        {
          "output_type": "stream",
          "name": "stdout",
          "text": [
            "Checking accuracy on training data\n",
            "Got 5919 / 60000 with accuracy 9.87\n",
            "Checking accuracy on training data\n",
            "Got 5919 / 60000 with accuracy 9.87\n"
          ]
        },
        {
          "output_type": "execute_result",
          "data": {
            "text/plain": [
              "tensor(5919)"
            ]
          },
          "metadata": {},
          "execution_count": 28
        }
      ]
    }
  ]
}